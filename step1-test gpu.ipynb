{
 "cells": [
  {
   "cell_type": "code",
   "execution_count": 1,
   "id": "2c153d7c-03dc-4df9-bbb7-af66aff7836c",
   "metadata": {},
   "outputs": [
    {
     "name": "stdout",
     "output_type": "stream",
     "text": [
      "CUDA 可用: True\n",
      "CUDA 设备数量: 1\n",
      "CUDA 设备 0: NVIDIA GeForce RTX 3080 Ti Laptop GPU\n"
     ]
    }
   ],
   "source": [
    "#检查cuda和cudnn的安装，测试显卡\n",
    "\n",
    "import torch\n",
    "\n",
    "# 检查 CUDA 是否可用\n",
    "cuda_available = torch.cuda.is_available()\n",
    "print(f\"CUDA 可用: {cuda_available}\")\n",
    "\n",
    "if cuda_available:\n",
    "    # 获取 CUDA 设备数量和名称\n",
    "    device_count = torch.cuda.device_count()\n",
    "    print(f\"CUDA 设备数量: {device_count}\")\n",
    "    for i in range(device_count):\n",
    "        print(f\"CUDA 设备 {i}: {torch.cuda.get_device_name(i)}\")\n",
    "else:\n",
    "    print(\"CUDA 不可用，请检查 CUDA 和 cuDNN 的安装。\")\n"
   ]
  },
  {
   "cell_type": "code",
   "execution_count": null,
   "id": "acee5d0f-e545-4a12-98bc-cbae99e43537",
   "metadata": {},
   "outputs": [],
   "source": []
  }
 ],
 "metadata": {
  "kernelspec": {
   "display_name": "Python 3 (ipykernel)",
   "language": "python",
   "name": "python3"
  },
  "language_info": {
   "codemirror_mode": {
    "name": "ipython",
    "version": 3
   },
   "file_extension": ".py",
   "mimetype": "text/x-python",
   "name": "python",
   "nbconvert_exporter": "python",
   "pygments_lexer": "ipython3",
   "version": "3.8.20"
  }
 },
 "nbformat": 4,
 "nbformat_minor": 5
}
