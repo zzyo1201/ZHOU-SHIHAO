{
 "cells": [
  {
   "cell_type": "code",
   "execution_count": 2,
   "id": "5fceb8b4-52e3-49da-803a-15d429945471",
   "metadata": {},
   "outputs": [
    {
     "name": "stdout",
     "output_type": "stream",
     "text": [
      "cyst: 当前数量 2969, 目标数量 4063, 需要增强 1094 张。\n",
      "stone: 当前数量 1103, 目标数量 4063, 需要增强 2960 张。\n",
      "tumor: 当前数量 1827, 目标数量 4063, 需要增强 2236 张。\n",
      "所有增强任务完成，增强后的图像保存在: C:\\Users\\zhou\\Desktop\\dataset\\train(augmented)\n"
     ]
    }
   ],
   "source": [
    "import os\n",
    "import cv2\n",
    "import albumentations as A\n",
    "import random\n",
    "import albumentations as A\n",
    "from albumentations import HorizontalFlip, Rotate, RandomBrightnessContrast, GaussianBlur\n",
    "from albumentations import ShiftScaleRotate\n",
    "from albumentations import Resize\n",
    "\n",
    "\n",
    "# 输入目录和输出目录\n",
    "input_dir = r\"C:\\Users\\zhou\\Desktop\\dataset\\train\"\n",
    "output_dir = r\"C:\\Users\\zhou\\Desktop\\dataset\\train(augmented)\"\n",
    "\n",
    "# 定义每个类别目标数量\n",
    "target_counts = {\n",
    "    \"cyst\": 4063,\n",
    "    \"stone\": 4063,\n",
    "    \"tumor\": 4063,\n",
    "    \"normal\": None  # normal 不需要增强\n",
    "}\n",
    "\n",
    "# 确保输出目录存在\n",
    "os.makedirs(output_dir, exist_ok=True)\n",
    "\n",
    "# 定义增强函数\n",
    "def augment_image(image):\n",
    "    transform = A.Compose([\n",
    "        A.HorizontalFlip(p=0.5),\n",
    "        A.Rotate(limit=30, p=0.5),\n",
    "        A.RandomBrightnessContrast(brightness_limit=0.2, contrast_limit=0.2, p=0.5),\n",
    "        A.GaussianBlur(blur_limit=(3, 5), p=0.2),\n",
    "        A.ShiftScaleRotate(shift_limit=0.0625, scale_limit=0.1, rotate_limit=15, p=0.5)\n",
    "    ])\n",
    "    return transform(image=image)['image']\n",
    "\n",
    "# 对某个类别的图像进行增强\n",
    "def augment_category(input_dir, output_dir, category, target_count):\n",
    "    input_path = os.path.join(input_dir, category)\n",
    "    output_path = os.path.join(output_dir, category)\n",
    "    os.makedirs(output_path, exist_ok=True)\n",
    "    \n",
    "    # 获取类别中的所有图像\n",
    "    image_files = [f for f in os.listdir(input_path) if f.endswith(('.jpg', '.png', '.jpeg'))]\n",
    "    current_count = len(image_files)\n",
    "    \n",
    "    # 如果当前数量已经达到或超过目标数量，不需要增强\n",
    "    if current_count >= target_count:\n",
    "        print(f\"{category} 已达到目标数量，无需增强。\")\n",
    "        return\n",
    "    \n",
    "    # 增强所需的数量\n",
    "    augment_count = target_count - current_count\n",
    "    print(f\"{category}: 当前数量 {current_count}, 目标数量 {target_count}, 需要增强 {augment_count} 张。\")\n",
    "    \n",
    "    for i in range(augment_count):\n",
    "        # 随机选择一张原始图像\n",
    "        random_image = random.choice(image_files)\n",
    "        img_path = os.path.join(input_path, random_image)\n",
    "        \n",
    "        # 读取图像\n",
    "        image = cv2.imread(img_path)\n",
    "        image = cv2.cvtColor(image, cv2.COLOR_BGR2RGB)  # 转换为 RGB\n",
    "        \n",
    "        # 数据增强\n",
    "        augmented_image = augment_image(image)\n",
    "        \n",
    "        # 保存增强后的图像\n",
    "        save_path = os.path.join(output_path, f\"aug_{i+1}_{random_image}\")\n",
    "        cv2.imwrite(save_path, cv2.cvtColor(augmented_image, cv2.COLOR_RGB2BGR))\n",
    "\n",
    "# 对所有类别进行处理\n",
    "for category, target_count in target_counts.items():\n",
    "    if target_count:\n",
    "        augment_category(input_dir, output_dir, category, target_count)\n",
    "\n",
    "print(\"所有增强任务完成，增强后的图像保存在:\", output_dir)\n"
   ]
  },
  {
   "cell_type": "code",
   "execution_count": null,
   "id": "32fbf9ba-f553-4b1b-b3ce-788add353290",
   "metadata": {},
   "outputs": [],
   "source": []
  },
  {
   "cell_type": "code",
   "execution_count": null,
   "id": "10dacd93-cf97-45b5-98b2-43b7cef6dc75",
   "metadata": {},
   "outputs": [],
   "source": []
  }
 ],
 "metadata": {
  "kernelspec": {
   "display_name": "Python 3 (ipykernel)",
   "language": "python",
   "name": "python3"
  },
  "language_info": {
   "codemirror_mode": {
    "name": "ipython",
    "version": 3
   },
   "file_extension": ".py",
   "mimetype": "text/x-python",
   "name": "python",
   "nbconvert_exporter": "python",
   "pygments_lexer": "ipython3",
   "version": "3.8.20"
  }
 },
 "nbformat": 4,
 "nbformat_minor": 5
}
