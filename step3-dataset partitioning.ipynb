{
 "cells": [
  {
   "cell_type": "code",
   "execution_count": 1,
   "id": "a4b32a1d-b67a-4d1f-878c-13eb7b6f437d",
   "metadata": {},
   "outputs": [
    {
     "name": "stdout",
     "output_type": "stream",
     "text": [
      "Processed category 'cyst': 370 to val, 370 to test.\n",
      "Processed category 'normal': 507 to val, 507 to test.\n",
      "Processed category 'stone': 137 to val, 137 to test.\n",
      "Processed category 'tumor': 228 to val, 228 to test.\n"
     ]
    }
   ],
   "source": [
    "import os\n",
    "import random\n",
    "import shutil\n",
    "\n",
    "# 定义文件夹路径\n",
    "train_dir = r\"C:\\Users\\zhou\\Desktop\\dataset\\train\"\n",
    "val_dir = r\"C:\\Users\\zhou\\Desktop\\dataset\\val\"\n",
    "test_dir = r\"C:\\Users\\zhou\\Desktop\\dataset\\test\"\n",
    "\n",
    "# 确保目标文件夹存在\n",
    "os.makedirs(val_dir, exist_ok=True)\n",
    "os.makedirs(test_dir, exist_ok=True)\n",
    "\n",
    "# 遍历每个类别的文件夹\n",
    "for category in os.listdir(train_dir):\n",
    "    category_path = os.path.join(train_dir, category)\n",
    "    if not os.path.isdir(category_path):\n",
    "        continue  # 跳过非文件夹项\n",
    "\n",
    "    # 创建目标类别文件夹\n",
    "    val_category_path = os.path.join(val_dir, category)\n",
    "    test_category_path = os.path.join(test_dir, category)\n",
    "    os.makedirs(val_category_path, exist_ok=True)\n",
    "    os.makedirs(test_category_path, exist_ok=True)\n",
    "\n",
    "    # 获取所有图片文件\n",
    "    images = [f for f in os.listdir(category_path) if os.path.isfile(os.path.join(category_path, f))]\n",
    "    random.shuffle(images)\n",
    "\n",
    "    # 计算10%的数量\n",
    "    total_images = len(images)\n",
    "    num_val = num_test = max(1, total_images // 10)  # 至少1张\n",
    "\n",
    "    # 分配图片\n",
    "    val_images = images[:num_val]\n",
    "    test_images = images[num_val:num_val + num_test]\n",
    "\n",
    "    # 移动到val文件夹\n",
    "    for img in val_images:\n",
    "        src_path = os.path.join(category_path, img)\n",
    "        dest_path = os.path.join(val_category_path, img)\n",
    "        shutil.move(src_path, dest_path)\n",
    "\n",
    "    # 移动到test文件夹\n",
    "    for img in test_images:\n",
    "        src_path = os.path.join(category_path, img)\n",
    "        dest_path = os.path.join(test_category_path, img)\n",
    "        shutil.move(src_path, dest_path)\n",
    "\n",
    "    print(f\"Processed category '{category}': {len(val_images)} to val, {len(test_images)} to test.\")\n"
   ]
  },
  {
   "cell_type": "code",
   "execution_count": null,
   "id": "b4f4f760-49c8-413e-a74c-85bb26857aa7",
   "metadata": {},
   "outputs": [],
   "source": []
  }
 ],
 "metadata": {
  "kernelspec": {
   "display_name": "Python 3 (ipykernel)",
   "language": "python",
   "name": "python3"
  },
  "language_info": {
   "codemirror_mode": {
    "name": "ipython",
    "version": 3
   },
   "file_extension": ".py",
   "mimetype": "text/x-python",
   "name": "python",
   "nbconvert_exporter": "python",
   "pygments_lexer": "ipython3",
   "version": "3.8.20"
  }
 },
 "nbformat": 4,
 "nbformat_minor": 5
}
