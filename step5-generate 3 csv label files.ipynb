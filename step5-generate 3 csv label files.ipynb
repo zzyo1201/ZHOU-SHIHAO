{
 "cells": [
  {
   "cell_type": "code",
   "execution_count": 1,
   "id": "4845aa0a-5f32-432f-a042-aec0c8c91b92",
   "metadata": {},
   "outputs": [
    {
     "name": "stdout",
     "output_type": "stream",
     "text": [
      "CSV文件已生成: C:\\Users\\zhou\\Desktop\\dataset\\train.csv\n"
     ]
    }
   ],
   "source": [
    "import os\n",
    "import csv\n",
    "\n",
    "# 定义目录和标签\n",
    "base_dir = r\"C:\\Users\\zhou\\Desktop\\dataset\\train(augmented)\"\n",
    "categories = {\n",
    "    \"cyst\": \"cyst\",\n",
    "    \"normal\": \"normal\",\n",
    "    \"stone\": \"stone\",\n",
    "    \"tumor\": \"tumor\"\n",
    "}\n",
    "\n",
    "# 输出CSV文件路径\n",
    "output_csv = r\"C:\\Users\\zhou\\Desktop\\dataset\\train.csv\"\n",
    "\n",
    "# 收集数据\n",
    "data = []\n",
    "for category, label in categories.items():\n",
    "    category_path = os.path.join(base_dir, category)\n",
    "    if os.path.exists(category_path):\n",
    "        for file_name in os.listdir(category_path):\n",
    "            file_path = os.path.join(category_path, file_name)\n",
    "            if os.path.isfile(file_path):  # 确保是文件\n",
    "                data.append([file_path, label])\n",
    "\n",
    "# 将数据写入CSV文件\n",
    "with open(output_csv, mode=\"w\", newline=\"\", encoding=\"utf-8\") as file:\n",
    "    writer = csv.writer(file)\n",
    "    writer.writerow([\"Address\", \"Label\"])  # 写入表头\n",
    "    writer.writerows(data)\n",
    "\n",
    "print(f\"CSV文件已生成: {output_csv}\")\n"
   ]
  },
  {
   "cell_type": "code",
   "execution_count": 2,
   "id": "c2934dd4-63ed-41cf-9f28-1e6be5c6ab9a",
   "metadata": {},
   "outputs": [
    {
     "name": "stdout",
     "output_type": "stream",
     "text": [
      "CSV文件已生成: C:\\Users\\zhou\\Desktop\\dataset\\val.csv\n"
     ]
    }
   ],
   "source": [
    "import os\n",
    "import csv\n",
    "\n",
    "# 定义目录和标签\n",
    "base_dir = r\"C:\\Users\\zhou\\Desktop\\dataset\\val\"\n",
    "categories = {\n",
    "    \"cyst\": \"cyst\",\n",
    "    \"normal\": \"normal\",\n",
    "    \"stone\": \"stone\",\n",
    "    \"tumor\": \"tumor\"\n",
    "}\n",
    "\n",
    "# 输出CSV文件路径\n",
    "output_csv = r\"C:\\Users\\zhou\\Desktop\\dataset\\val.csv\"\n",
    "\n",
    "# 收集数据\n",
    "data = []\n",
    "for category, label in categories.items():\n",
    "    category_path = os.path.join(base_dir, category)\n",
    "    if os.path.exists(category_path):\n",
    "        for file_name in os.listdir(category_path):\n",
    "            file_path = os.path.join(category_path, file_name)\n",
    "            if os.path.isfile(file_path):  # 确保是文件\n",
    "                data.append([file_path, label])\n",
    "\n",
    "# 将数据写入CSV文件\n",
    "with open(output_csv, mode=\"w\", newline=\"\", encoding=\"utf-8\") as file:\n",
    "    writer = csv.writer(file)\n",
    "    writer.writerow([\"Address\", \"Label\"])  # 写入表头\n",
    "    writer.writerows(data)\n",
    "\n",
    "print(f\"CSV文件已生成: {output_csv}\")\n"
   ]
  },
  {
   "cell_type": "code",
   "execution_count": 3,
   "id": "636b1fa0-4e44-487b-af1b-36c9ada6a570",
   "metadata": {},
   "outputs": [
    {
     "name": "stdout",
     "output_type": "stream",
     "text": [
      "CSV文件已生成: C:\\Users\\zhou\\Desktop\\dataset\\test.csv\n"
     ]
    }
   ],
   "source": [
    "import os\n",
    "import csv\n",
    "\n",
    "# 定义目录和标签\n",
    "base_dir = r\"C:\\Users\\zhou\\Desktop\\dataset\\test\"\n",
    "categories = {\n",
    "    \"cyst\": \"cyst\",\n",
    "    \"normal\": \"normal\",\n",
    "    \"stone\": \"stone\",\n",
    "    \"tumor\": \"tumor\"\n",
    "}\n",
    "\n",
    "# 输出CSV文件路径\n",
    "output_csv = r\"C:\\Users\\zhou\\Desktop\\dataset\\test.csv\"\n",
    "\n",
    "# 收集数据\n",
    "data = []\n",
    "for category, label in categories.items():\n",
    "    category_path = os.path.join(base_dir, category)\n",
    "    if os.path.exists(category_path):\n",
    "        for file_name in os.listdir(category_path):\n",
    "            file_path = os.path.join(category_path, file_name)\n",
    "            if os.path.isfile(file_path):  # 确保是文件\n",
    "                data.append([file_path, label])\n",
    "\n",
    "# 将数据写入CSV文件\n",
    "with open(output_csv, mode=\"w\", newline=\"\", encoding=\"utf-8\") as file:\n",
    "    writer = csv.writer(file)\n",
    "    writer.writerow([\"Address\", \"Label\"])  # 写入表头\n",
    "    writer.writerows(data)\n",
    "\n",
    "print(f\"CSV文件已生成: {output_csv}\")\n"
   ]
  }
 ],
 "metadata": {
  "kernelspec": {
   "display_name": "Python 3 (ipykernel)",
   "language": "python",
   "name": "python3"
  },
  "language_info": {
   "codemirror_mode": {
    "name": "ipython",
    "version": 3
   },
   "file_extension": ".py",
   "mimetype": "text/x-python",
   "name": "python",
   "nbconvert_exporter": "python",
   "pygments_lexer": "ipython3",
   "version": "3.8.20"
  }
 },
 "nbformat": 4,
 "nbformat_minor": 5
}
