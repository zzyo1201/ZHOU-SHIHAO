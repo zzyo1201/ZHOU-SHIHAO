{
 "cells": [
  {
   "cell_type": "code",
   "execution_count": 1,
   "id": "4c169e25-ab97-4fd9-9121-41aa76a78d6f",
   "metadata": {},
   "outputs": [
    {
     "name": "stdout",
     "output_type": "stream",
     "text": [
      "图像预处理完成！\n"
     ]
    }
   ],
   "source": [
    "import os\n",
    "import cv2\n",
    "import numpy as np\n",
    "\n",
    "# Input and output folder paths\n",
    "input_folders = {\n",
    "    'cyst': r'C:\\Users\\zhou\\Desktop\\dataset\\cyst',\n",
    "    'normal': r'C:\\Users\\zhou\\Desktop\\dataset\\normal',\n",
    "    'stone': r'C:\\Users\\zhou\\Desktop\\dataset\\stone',\n",
    "    'tumor': r'C:\\Users\\zhou\\Desktop\\dataset\\tumor'\n",
    "}\n",
    "output_folders = {\n",
    "    'cyst': r'C:\\Users\\zhou\\Desktop\\dataset\\preprocessed_cyst',\n",
    "    'normal': r'C:\\Users\\zhou\\Desktop\\dataset\\preprocessed_normal',\n",
    "    'stone': r'C:\\Users\\zhou\\Desktop\\dataset\\preprocessed_stone',\n",
    "    'tumor': r'C:\\Users\\zhou\\Desktop\\dataset\\preprocessed_tumor'\n",
    "}\n",
    "\n",
    "# Ensure output folders exist\n",
    "for folder in output_folders.values():\n",
    "    os.makedirs(folder, exist_ok=True)\n",
    "\n",
    "# Image processing function\n",
    "def preprocess_image(image_path, output_path, target_size=(224, 224)):\n",
    "    # Read the image\n",
    "    img = cv2.imread(image_path)\n",
    "    if img is None:\n",
    "        print(f\"Failed to load image: {image_path}\")\n",
    "        return\n",
    "\n",
    "    # Resize the image\n",
    "    img_resized = cv2.resize(img, target_size)\n",
    "\n",
    "    # Normalize\n",
    "    img_normalized = img_resized / 255.0\n",
    "\n",
    "    # Save the processed image\n",
    "    cv2.imwrite(output_path, (img_normalized * 255).astype(np.uint8))  # Convert back to uint8 format\n",
    "\n",
    "# Batch process images for each category\n",
    "for category, input_folder in input_folders.items():\n",
    "    output_folder = output_folders[category]\n",
    "    \n",
    "    for image_name in os.listdir(input_folder):\n",
    "        image_path = os.path.join(input_folder, image_name)\n",
    "        output_path = os.path.join(output_folder, image_name)\n",
    "        preprocess_image(image_path, output_path)\n",
    "\n",
    "print(\"Image preprocessing complete!\")\n"
   ]
  },
  {
   "cell_type": "code",
   "execution_count": null,
   "id": "296ad550-361b-4e89-a98f-b58b51a44fd7",
   "metadata": {},
   "outputs": [],
   "source": []
  }
 ],
 "metadata": {
  "kernelspec": {
   "display_name": "Python 3 (ipykernel)",
   "language": "python",
   "name": "python3"
  },
  "language_info": {
   "codemirror_mode": {
    "name": "ipython",
    "version": 3
   },
   "file_extension": ".py",
   "mimetype": "text/x-python",
   "name": "python",
   "nbconvert_exporter": "python",
   "pygments_lexer": "ipython3",
   "version": "3.8.20"
  }
 },
 "nbformat": 4,
 "nbformat_minor": 5
}
